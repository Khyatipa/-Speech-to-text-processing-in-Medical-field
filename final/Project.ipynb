{
 "cells": [
  {
   "cell_type": "code",
   "execution_count": 1,
   "id": "0f6502f3",
   "metadata": {},
   "outputs": [],
   "source": [
    "#!pip install matplotlib\n",
    "#!pip install pyspellchecker"
   ]
  },
  {
   "cell_type": "code",
   "execution_count": 2,
   "id": "5640ceaf",
   "metadata": {},
   "outputs": [
    {
     "name": "stdout",
     "output_type": "stream",
     "text": [
      "Populating the interactive namespace from numpy and matplotlib\n"
     ]
    },
    {
     "name": "stderr",
     "output_type": "stream",
     "text": [
      "C:\\Users\\ADMIN\\.conda\\envs\\nlp\\lib\\site-packages\\ipykernel_launcher.py:8: FutureWarning: Passing a negative integer is deprecated in version 1.0 and will not be supported in future version. Instead, use None to not limit the column width.\n",
      "  \n"
     ]
    }
   ],
   "source": [
    "# load basic jupyter notebook libraries and namespace\n",
    "%pylab inline\n",
    "\n",
    "\n",
    "import pandas as pd # data manipulation\n",
    "import nltk # natural language processing toolkit\n",
    "\n",
    "pd.set_option('display.max_colwidth', -1) # fixes column width issue\n",
    "plt.rcParams.update({'font.size': 14}) # customize plots"
   ]
  },
  {
   "cell_type": "code",
   "execution_count": 3,
   "id": "ea0099bb",
   "metadata": {},
   "outputs": [],
   "source": [
    "df = pd.read_csv('train.csv')"
   ]
  },
  {
   "cell_type": "code",
   "execution_count": 4,
   "id": "539913a3",
   "metadata": {},
   "outputs": [
    {
     "data": {
      "text/html": [
       "<div>\n",
       "<style scoped>\n",
       "    .dataframe tbody tr th:only-of-type {\n",
       "        vertical-align: middle;\n",
       "    }\n",
       "\n",
       "    .dataframe tbody tr th {\n",
       "        vertical-align: top;\n",
       "    }\n",
       "\n",
       "    .dataframe thead th {\n",
       "        text-align: right;\n",
       "    }\n",
       "</style>\n",
       "<table border=\"1\" class=\"dataframe\">\n",
       "  <thead>\n",
       "    <tr style=\"text-align: right;\">\n",
       "      <th></th>\n",
       "      <th>Unnamed: 0</th>\n",
       "      <th>Target</th>\n",
       "      <th>Prescription</th>\n",
       "    </tr>\n",
       "  </thead>\n",
       "  <tbody>\n",
       "    <tr>\n",
       "      <th>0</th>\n",
       "      <td>0</td>\n",
       "      <td>5</td>\n",
       "      <td>Renal abscess in children. Three cases of renal abscesses in children are described to illustrate the variable presenting features. An additional 23 pediatric cases, reported over the past ten years, were reviewed for clinical features and therapy. Fever, loin pain, and leukocytosis were common presenting features, but less than half of all abscesses were associated with either an abnormal urinalysis or a positive urine culture. The presenting features were sometimes confused with appendicitis, peritonitis, or a Wilms tumor. An organism was identified in 17 cases--Escherichia coli in 9 children and Staphylococcus aureus in 8 children. The majority of E. coli infections occurred in girls and the majority of S. aureus infections occurred in boys. Reflux was documented in 5 patients, and 2 children had a possible extrarenal source of infection. Antibiotics alone produced a cure in 10 children (38%), but 16 children (62%) required a surgical procedure.</td>\n",
       "    </tr>\n",
       "    <tr>\n",
       "      <th>1</th>\n",
       "      <td>1</td>\n",
       "      <td>2</td>\n",
       "      <td>Hyperplastic polyps seen at sigmoidoscopy are markers for additional adenomas seen at colonoscopy. Asymptomatic individuals undergoing screening flexible sigmoidoscopy were prospectively studied. Polyps were found in 185 subjects. The endoscopist recorded an opinion on the polyps' histology based on endoscopic appearance. No polyps were removed at sigmoidoscopy. All subjects with rectosigmoid polyps then underwent colonoscopy and polypectomy. Of them, 99 subjects (54%) had at least one rectosigmoid adenoma, 69 (37%) had only hyperplastic polyps, and 17 (9%) had other findings. The endoscopists' opinion of the histopathology of polyps at sigmoidoscopy was correct for 61% of the lesions. Of subjects with adenomatous rectosigmoid polyps, 29% had additional adenomas at more proximal sites. Proximal adenomas were found in 28% of patients with hyperplastic rectosigmoid polyps. Patients with rectosigmoid hyperplastic polyps had the same risk for additional proximal adenomas as patients with rectosigmoid adenomatous polyps.</td>\n",
       "    </tr>\n",
       "    <tr>\n",
       "      <th>2</th>\n",
       "      <td>2</td>\n",
       "      <td>5</td>\n",
       "      <td>Subclavian artery to innominate vein fistula after insertion of a hemodialysis catheter. Insertion of hemodialysis catheters for temporary use is now preferentially performed by percutaneous infraclavicular subclavian vein catheterization. This method involves passage of a stiff dilator and a peel-away sheath over a guide wire, and is usually carried out without fluoroscopy. For the most part this has proved to be a valuable and safe approach. However, a small incidence of major complications occurs, which needs to be emphasized. Sixteen cases of arteriovenous fistulas between the subclavian artery or its branches and the subclavian vein have been reported so far in the literature. To date only one case of subclavian artery to innominate vein fistula has been reported. We report the second case with this complication and suggest possible preventive measures.</td>\n",
       "    </tr>\n",
       "  </tbody>\n",
       "</table>\n",
       "</div>"
      ],
      "text/plain": [
       "   Unnamed: 0  Target  \\\n",
       "0  0           5        \n",
       "1  1           2        \n",
       "2  2           5        \n",
       "\n",
       "                                                                                                                                                                                                                                                                                                                                                                                                                                                                                                                                                                                                                                                                                                                                                                                                                                                                                                                                                                                                                                                               Prescription  \n",
       "0  Renal abscess in children. Three cases of renal abscesses in children are described to illustrate the variable presenting features. An additional 23 pediatric cases, reported over the past ten years, were reviewed for clinical features and therapy. Fever, loin pain, and leukocytosis were common presenting features, but less than half of all abscesses were associated with either an abnormal urinalysis or a positive urine culture. The presenting features were sometimes confused with appendicitis, peritonitis, or a Wilms tumor. An organism was identified in 17 cases--Escherichia coli in 9 children and Staphylococcus aureus in 8 children. The majority of E. coli infections occurred in girls and the majority of S. aureus infections occurred in boys. Reflux was documented in 5 patients, and 2 children had a possible extrarenal source of infection. Antibiotics alone produced a cure in 10 children (38%), but 16 children (62%) required a surgical procedure.                                                                        \n",
       "1  Hyperplastic polyps seen at sigmoidoscopy are markers for additional adenomas seen at colonoscopy. Asymptomatic individuals undergoing screening flexible sigmoidoscopy were prospectively studied. Polyps were found in 185 subjects. The endoscopist recorded an opinion on the polyps' histology based on endoscopic appearance. No polyps were removed at sigmoidoscopy. All subjects with rectosigmoid polyps then underwent colonoscopy and polypectomy. Of them, 99 subjects (54%) had at least one rectosigmoid adenoma, 69 (37%) had only hyperplastic polyps, and 17 (9%) had other findings. The endoscopists' opinion of the histopathology of polyps at sigmoidoscopy was correct for 61% of the lesions. Of subjects with adenomatous rectosigmoid polyps, 29% had additional adenomas at more proximal sites. Proximal adenomas were found in 28% of patients with hyperplastic rectosigmoid polyps. Patients with rectosigmoid hyperplastic polyps had the same risk for additional proximal adenomas as patients with rectosigmoid adenomatous polyps.   \n",
       "2  Subclavian artery to innominate vein fistula after insertion of a hemodialysis catheter. Insertion of hemodialysis catheters for temporary use is now preferentially performed by percutaneous infraclavicular subclavian vein catheterization. This method involves passage of a stiff dilator and a peel-away sheath over a guide wire, and is usually carried out without fluoroscopy. For the most part this has proved to be a valuable and safe approach. However, a small incidence of major complications occurs, which needs to be emphasized. Sixteen cases of arteriovenous fistulas between the subclavian artery or its branches and the subclavian vein have been reported so far in the literature. To date only one case of subclavian artery to innominate vein fistula has been reported. We report the second case with this complication and suggest possible preventive measures.                                                                                                                                                                    "
      ]
     },
     "execution_count": 4,
     "metadata": {},
     "output_type": "execute_result"
    }
   ],
   "source": [
    "df.head(n=3)"
   ]
  },
  {
   "cell_type": "code",
   "execution_count": 5,
   "id": "7fcc1d21",
   "metadata": {},
   "outputs": [
    {
     "name": "stdout",
     "output_type": "stream",
     "text": [
      "14437\n"
     ]
    }
   ],
   "source": [
    "# print total number of rows for data\n",
    "print(len(df.index))"
   ]
  },
  {
   "cell_type": "markdown",
   "id": "3152205b",
   "metadata": {},
   "source": [
    "# Pre-processing"
   ]
  },
  {
   "cell_type": "code",
   "execution_count": 6,
   "id": "ad673f83",
   "metadata": {},
   "outputs": [
    {
     "name": "stdout",
     "output_type": "stream",
     "text": [
      "11227\n"
     ]
    }
   ],
   "source": [
    "df.drop_duplicates(subset='Prescription',inplace=True)\n",
    "df = df.reset_index()\n",
    "print(len(df.index))"
   ]
  },
  {
   "cell_type": "code",
   "execution_count": 7,
   "id": "a5d7985f",
   "metadata": {},
   "outputs": [
    {
     "data": {
      "image/png": "[encoded data removed]",
      "text/plain": [
       "<Figure size 720x432 with 1 Axes>"
      ]
     },
     "metadata": {
      "needs_background": "light"
     },
     "output_type": "display_data"
    }
   ],
   "source": [
    "#class record counts from the dataset\n",
    "counts = df['Target'].value_counts()\n",
    "plt.figure(figsize=(10,6));\n",
    "plt.bar(counts.index,counts.values);\n",
    "plt.xticks(rotation=45,ha='right');"
   ]
  },
  {
   "cell_type": "code",
   "execution_count": 8,
   "id": "77f7da68",
   "metadata": {},
   "outputs": [
    {
     "name": "stderr",
     "output_type": "stream",
     "text": [
      "[nltk_data] Downloading package punkt to\n",
      "[nltk_data]     C:\\Users\\ADMIN\\AppData\\Roaming\\nltk_data...\n",
      "[nltk_data]   Package punkt is already up-to-date!\n"
     ]
    }
   ],
   "source": [
    "#word tokenizing\n",
    "nltk.download('punkt')\n",
    "# select random sentence\n",
    "sentence = df.sample(n=1)['Prescription'].values[0]\n",
    "# create tokens from sentence\n",
    "tokens = nltk.word_tokenize(sentence)\n",
    "# create tagged sentence\n",
    "tagged = nltk.pos_tag(tokens)"
   ]
  },
  {
   "cell_type": "code",
   "execution_count": 9,
   "id": "e7fc9afa",
   "metadata": {},
   "outputs": [
    {
     "name": "stdout",
     "output_type": "stream",
     "text": [
      "Spontaneous splenic rupture following infectious mononucleosis. Four cases of spontaneous splenic rupture after infectious mononucleosis (IM) have been treated at this institution since 1978. The condition is rare, occurring in 0.1-0.5 per cent of patients with proven infectious mononucleosis. Splenectomy is considered the treatment of choice for these patients. However, because recent trends in the management of traumatic splenic rupture are moving towards nonoperative treatment with selected patients, a similar approach has been considered for the patient with spontaneous splenic rupture following IM. The major reason for avoiding splenectomy is the increased incidence of sepsis in splenectomized patients. Yet, splenic rupture is accompanied by hemorrhage and the risks associated with blood transfusion for ongoing hemorrhage are of similar magnitude as those of sepsis following splenectomy. In addition, the grossly abnormal spleens seen at operation tend to include large, contained hematomas that may also be prone to rupture. Therefore, operative management still appears to be the preferred treatment for spontaneous splenic rupture following IM. Splenectomy is curative, safe, and obviates the need for transfusion, extended hospitalization, and activity restriction. \n"
     ]
    }
   ],
   "source": [
    "print(sentence)"
   ]
  },
  {
   "cell_type": "markdown",
   "id": "66da3c2b",
   "metadata": {},
   "source": [
    "# Text-cleaning"
   ]
  },
  {
   "cell_type": "code",
   "execution_count": 10,
   "id": "0b8f4615",
   "metadata": {},
   "outputs": [
    {
     "name": "stderr",
     "output_type": "stream",
     "text": [
      "[nltk_data] Downloading package stopwords to\n",
      "[nltk_data]     C:\\Users\\ADMIN\\AppData\\Roaming\\nltk_data...\n",
      "[nltk_data]   Package stopwords is already up-to-date!\n"
     ]
    }
   ],
   "source": [
    "from nltk import word_tokenize          \n",
    "from nltk.stem import WordNetLemmatizer \n",
    "\n",
    "wnl = WordNetLemmatizer()\n",
    "\n",
    "from spellchecker import SpellChecker\n",
    "import string\n",
    "spell = SpellChecker()\n",
    "\n",
    "nltk.download('stopwords')\n",
    "\n",
    "from nltk.corpus import stopwords"
   ]
  },
  {
   "cell_type": "code",
   "execution_count": 11,
   "id": "3ca0e050",
   "metadata": {},
   "outputs": [],
   "source": [
    "def correct_spelling(word):\n",
    "    return spell.correction(word)\n",
    "\n",
    "def remove_hyperlink(word):\n",
    "    return  re.sub(r\"http\\S+\", \"\", word)\n",
    "\n",
    "def to_lower(word):\n",
    "    result = word.lower()\n",
    "    return result\n",
    "\n",
    "def remove_punctuation(word):\n",
    "    result = word.translate(str.maketrans(dict.fromkeys(string.punctuation)))\n",
    "    return result\n",
    "\n",
    "def remove_number(word):\n",
    "    result = re.sub(r'\\d+', '', word)\n",
    "    return result\n",
    "\n",
    "def replace_newline(word):\n",
    "    return word.replace('\\n','')"
   ]
  },
  {
   "cell_type": "code",
   "execution_count": 12,
   "id": "24509967",
   "metadata": {},
   "outputs": [],
   "source": [
    "def clean_up_pipeline(sentence):\n",
    "    cleaning_utils = [remove_hyperlink,\n",
    "                      replace_newline,\n",
    "                      to_lower,\n",
    "                      remove_number, \n",
    "                      correct_spelling,\n",
    "                      remove_punctuation]\n",
    "    for o in cleaning_utils:\n",
    "        sentence = o(sentence)\n",
    "    return sentence"
   ]
  },
  {
   "cell_type": "code",
   "execution_count": 13,
   "id": "1586fcac",
   "metadata": {},
   "outputs": [],
   "source": [
    "df = df.reset_index()  # make sure indexes pair with number of rows\n",
    "for index, row in df.iterrows():\n",
    "    df.at[index,'Prescription']  = clean_up_pipeline(row['Prescription'])"
   ]
  },
  {
   "cell_type": "code",
   "execution_count": 14,
   "id": "59056f0a",
   "metadata": {},
   "outputs": [
    {
     "name": "stdout",
     "output_type": "stream",
     "text": [
      "After cleaning the text:  clinical interaction of salt and weight change on blood pressure level studies that examine the effect of altered body weight or dietary sodium on blood pressure level are reviewed emphasis is placed on studies that compare the effects of weight reduction or sodium restriction in separate comparison groups or analyze the independent effect of the two intervention modalities in multiple regression analysis additional analyses of the hypertension prevention trial data are presented most studies where comparison can be made suggest a greater effect for weight reduction than for the achieved moderate or shortterm reduction in sodium intake on subsequent lowering of blood pressure the lowering effect on blood pressure of weight reduction is independent of the effect of dietary sodium restriction however longterm over a year substantial reductions up to  meqday of dietary sodium have not been achieved in comparative trials nor are the effects of combined weight and sodium reduction in the prevention and treatment of hypertension quantified future studies and potential problems are discussed \n"
     ]
    }
   ],
   "source": [
    "sentence = df.sample(n=1)['Prescription'].values[0]\n",
    "print(f\"After cleaning the text:  {sentence}\")"
   ]
  },
  {
   "cell_type": "markdown",
   "id": "c1a487c8",
   "metadata": {},
   "source": [
    "# Vector representations of prescriptions"
   ]
  },
  {
   "cell_type": "code",
   "execution_count": 15,
   "id": "a9269811",
   "metadata": {},
   "outputs": [],
   "source": [
    "# Import the libraries we need\n",
    "from sklearn.feature_extraction.text import CountVectorizer"
   ]
  },
  {
   "cell_type": "code",
   "execution_count": 16,
   "id": "687866ff",
   "metadata": {},
   "outputs": [],
   "source": [
    "# Step 1. Load the data\n",
    "documents = df['Prescription'].values"
   ]
  },
  {
   "cell_type": "code",
   "execution_count": 17,
   "id": "70f5a530",
   "metadata": {},
   "outputs": [],
   "source": [
    "# Step 2. Design the Vocabulary\n",
    "# The default token pattern removes tokens of a single character. \n",
    "# That's why we don't have the \"I\" and \"s\" tokens in the output\n",
    "count_vectorizer = CountVectorizer()"
   ]
  },
  {
   "cell_type": "code",
   "execution_count": 18,
   "id": "0cdcf119",
   "metadata": {},
   "outputs": [],
   "source": [
    "# Step 3. Create the Bag-of-Words Model\n",
    "bag_of_words = count_vectorizer.fit_transform(documents)"
   ]
  },
  {
   "cell_type": "code",
   "execution_count": 19,
   "id": "9cba1164",
   "metadata": {},
   "outputs": [
    {
     "data": {
      "text/html": [
       "<div>\n",
       "<style scoped>\n",
       "    .dataframe tbody tr th:only-of-type {\n",
       "        vertical-align: middle;\n",
       "    }\n",
       "\n",
       "    .dataframe tbody tr th {\n",
       "        vertical-align: top;\n",
       "    }\n",
       "\n",
       "    .dataframe thead th {\n",
       "        text-align: right;\n",
       "    }\n",
       "</style>\n",
       "<table border=\"1\" class=\"dataframe\">\n",
       "  <thead>\n",
       "    <tr style=\"text-align: right;\">\n",
       "      <th></th>\n",
       "      <th>aa</th>\n",
       "      <th>aaa</th>\n",
       "      <th>aab</th>\n",
       "      <th>aactivated</th>\n",
       "      <th>aaem</th>\n",
       "      <th>aag</th>\n",
       "      <th>aah</th>\n",
       "      <th>aai</th>\n",
       "      <th>aapo</th>\n",
       "      <th>aarm</th>\n",
       "      <th>...</th>\n",
       "      <th>zymodeme</th>\n",
       "      <th>zymodemes</th>\n",
       "      <th>zymogen</th>\n",
       "      <th>zymogens</th>\n",
       "      <th>zymograms</th>\n",
       "      <th>zymography</th>\n",
       "      <th>zymosan</th>\n",
       "      <th>zymosanactivated</th>\n",
       "      <th>zymosanstimulated</th>\n",
       "      <th>zzygos</th>\n",
       "    </tr>\n",
       "  </thead>\n",
       "  <tbody>\n",
       "    <tr>\n",
       "      <th>0</th>\n",
       "      <td>0</td>\n",
       "      <td>0</td>\n",
       "      <td>0</td>\n",
       "      <td>0</td>\n",
       "      <td>0</td>\n",
       "      <td>0</td>\n",
       "      <td>0</td>\n",
       "      <td>0</td>\n",
       "      <td>0</td>\n",
       "      <td>0</td>\n",
       "      <td>...</td>\n",
       "      <td>0</td>\n",
       "      <td>0</td>\n",
       "      <td>0</td>\n",
       "      <td>0</td>\n",
       "      <td>0</td>\n",
       "      <td>0</td>\n",
       "      <td>0</td>\n",
       "      <td>0</td>\n",
       "      <td>0</td>\n",
       "      <td>0</td>\n",
       "    </tr>\n",
       "    <tr>\n",
       "      <th>1</th>\n",
       "      <td>0</td>\n",
       "      <td>0</td>\n",
       "      <td>0</td>\n",
       "      <td>0</td>\n",
       "      <td>0</td>\n",
       "      <td>0</td>\n",
       "      <td>0</td>\n",
       "      <td>0</td>\n",
       "      <td>0</td>\n",
       "      <td>0</td>\n",
       "      <td>...</td>\n",
       "      <td>0</td>\n",
       "      <td>0</td>\n",
       "      <td>0</td>\n",
       "      <td>0</td>\n",
       "      <td>0</td>\n",
       "      <td>0</td>\n",
       "      <td>0</td>\n",
       "      <td>0</td>\n",
       "      <td>0</td>\n",
       "      <td>0</td>\n",
       "    </tr>\n",
       "    <tr>\n",
       "      <th>2</th>\n",
       "      <td>0</td>\n",
       "      <td>0</td>\n",
       "      <td>0</td>\n",
       "      <td>0</td>\n",
       "      <td>0</td>\n",
       "      <td>0</td>\n",
       "      <td>0</td>\n",
       "      <td>0</td>\n",
       "      <td>0</td>\n",
       "      <td>0</td>\n",
       "      <td>...</td>\n",
       "      <td>0</td>\n",
       "      <td>0</td>\n",
       "      <td>0</td>\n",
       "      <td>0</td>\n",
       "      <td>0</td>\n",
       "      <td>0</td>\n",
       "      <td>0</td>\n",
       "      <td>0</td>\n",
       "      <td>0</td>\n",
       "      <td>0</td>\n",
       "    </tr>\n",
       "    <tr>\n",
       "      <th>3</th>\n",
       "      <td>0</td>\n",
       "      <td>0</td>\n",
       "      <td>0</td>\n",
       "      <td>0</td>\n",
       "      <td>0</td>\n",
       "      <td>0</td>\n",
       "      <td>0</td>\n",
       "      <td>0</td>\n",
       "      <td>0</td>\n",
       "      <td>0</td>\n",
       "      <td>...</td>\n",
       "      <td>0</td>\n",
       "      <td>0</td>\n",
       "      <td>0</td>\n",
       "      <td>0</td>\n",
       "      <td>0</td>\n",
       "      <td>0</td>\n",
       "      <td>0</td>\n",
       "      <td>0</td>\n",
       "      <td>0</td>\n",
       "      <td>0</td>\n",
       "    </tr>\n",
       "    <tr>\n",
       "      <th>4</th>\n",
       "      <td>0</td>\n",
       "      <td>0</td>\n",
       "      <td>0</td>\n",
       "      <td>0</td>\n",
       "      <td>0</td>\n",
       "      <td>0</td>\n",
       "      <td>0</td>\n",
       "      <td>0</td>\n",
       "      <td>0</td>\n",
       "      <td>0</td>\n",
       "      <td>...</td>\n",
       "      <td>0</td>\n",
       "      <td>0</td>\n",
       "      <td>0</td>\n",
       "      <td>0</td>\n",
       "      <td>0</td>\n",
       "      <td>0</td>\n",
       "      <td>0</td>\n",
       "      <td>0</td>\n",
       "      <td>0</td>\n",
       "      <td>0</td>\n",
       "    </tr>\n",
       "    <tr>\n",
       "      <th>5</th>\n",
       "      <td>0</td>\n",
       "      <td>0</td>\n",
       "      <td>0</td>\n",
       "      <td>0</td>\n",
       "      <td>0</td>\n",
       "      <td>0</td>\n",
       "      <td>0</td>\n",
       "      <td>0</td>\n",
       "      <td>0</td>\n",
       "      <td>0</td>\n",
       "      <td>...</td>\n",
       "      <td>0</td>\n",
       "      <td>0</td>\n",
       "      <td>0</td>\n",
       "      <td>0</td>\n",
       "      <td>0</td>\n",
       "      <td>0</td>\n",
       "      <td>0</td>\n",
       "      <td>0</td>\n",
       "      <td>0</td>\n",
       "      <td>0</td>\n",
       "    </tr>\n",
       "  </tbody>\n",
       "</table>\n",
       "<p>6 rows × 44490 columns</p>\n",
       "</div>"
      ],
      "text/plain": [
       "   aa  aaa  aab  aactivated  aaem  aag  aah  aai  aapo  aarm  ...  zymodeme  \\\n",
       "0  0   0    0    0           0     0    0    0    0     0     ...  0          \n",
       "1  0   0    0    0           0     0    0    0    0     0     ...  0          \n",
       "2  0   0    0    0           0     0    0    0    0     0     ...  0          \n",
       "3  0   0    0    0           0     0    0    0    0     0     ...  0          \n",
       "4  0   0    0    0           0     0    0    0    0     0     ...  0          \n",
       "5  0   0    0    0           0     0    0    0    0     0     ...  0          \n",
       "\n",
       "   zymodemes  zymogen  zymogens  zymograms  zymography  zymosan  \\\n",
       "0  0          0        0         0          0           0         \n",
       "1  0          0        0         0          0           0         \n",
       "2  0          0        0         0          0           0         \n",
       "3  0          0        0         0          0           0         \n",
       "4  0          0        0         0          0           0         \n",
       "5  0          0        0         0          0           0         \n",
       "\n",
       "   zymosanactivated  zymosanstimulated  zzygos  \n",
       "0  0                 0                  0       \n",
       "1  0                 0                  0       \n",
       "2  0                 0                  0       \n",
       "3  0                 0                  0       \n",
       "4  0                 0                  0       \n",
       "5  0                 0                  0       \n",
       "\n",
       "[6 rows x 44490 columns]"
      ]
     },
     "execution_count": 19,
     "metadata": {},
     "output_type": "execute_result"
    }
   ],
   "source": [
    "feature_names = count_vectorizer.get_feature_names()\n",
    "pd.DataFrame(bag_of_words.toarray(), columns = feature_names).head(n=6)"
   ]
  },
  {
   "cell_type": "code",
   "execution_count": 20,
   "id": "5c45cb2c",
   "metadata": {},
   "outputs": [],
   "source": [
    "from sklearn.feature_extraction.text import TfidfVectorizer\n",
    "vectorizer = TfidfVectorizer()\n",
    "matrix = vectorizer.fit_transform(df.Prescription)\n",
    "X = matrix\n",
    "y = df['Target']"
   ]
  },
  {
   "cell_type": "code",
   "execution_count": 21,
   "id": "d73d8849",
   "metadata": {},
   "outputs": [
    {
     "name": "stdout",
     "output_type": "stream",
     "text": [
      "Training target statistics: Counter({5: 2477, 1: 1867, 4: 1708, 3: 1042, 2: 764})\n",
      "Testing target statistics: Counter({5: 1033, 1: 806, 4: 769, 3: 427, 2: 334})\n"
     ]
    }
   ],
   "source": [
    "from sklearn.model_selection import train_test_split\n",
    "from collections import Counter\n",
    "X_train, X_test, y_train, y_test = train_test_split(X, y, test_size=0.3, random_state=100)\n",
    "print(f\"Training target statistics: {Counter(y_train)}\")\n",
    "print(f\"Testing target statistics: {Counter(y_test)}\")"
   ]
  },
  {
   "cell_type": "markdown",
   "id": "ad3c3081",
   "metadata": {},
   "source": [
    "# Random oversampling for dataset balancing"
   ]
  },
  {
   "cell_type": "code",
   "execution_count": 22,
   "id": "0f65d1fa",
   "metadata": {},
   "outputs": [
    {
     "name": "stdout",
     "output_type": "stream",
     "text": [
      "Training target statistics: Counter({4: 2477, 3: 2477, 1: 2477, 5: 2477, 2: 2477})\n",
      "Testing target statistics: Counter({5: 1033, 1: 806, 4: 769, 3: 427, 2: 334})\n"
     ]
    }
   ],
   "source": [
    "from imblearn.over_sampling import RandomOverSampler\n",
    "over_sampler = RandomOverSampler(random_state=42)\n",
    "X_res, y_res = over_sampler.fit_resample(X_train, y_train)\n",
    "print(f\"Training target statistics: {Counter(y_res)}\")\n",
    "print(f\"Testing target statistics: {Counter(y_test)}\")"
   ]
  },
  {
   "cell_type": "code",
   "execution_count": 23,
   "id": "882c105a",
   "metadata": {},
   "outputs": [],
   "source": [
    "# load necessary sci-kit learn methods\n",
    "from sklearn.pipeline import Pipeline\n",
    "from sklearn.naive_bayes import MultinomialNB\n",
    "from sklearn.naive_bayes import BernoulliNB\n",
    "from sklearn.feature_extraction.text import CountVectorizer\n",
    "from sklearn.feature_extraction.text import TfidfTransformer"
   ]
  },
  {
   "cell_type": "code",
   "execution_count": 24,
   "id": "f7644cb2",
   "metadata": {},
   "outputs": [
    {
     "name": "stdout",
     "output_type": "stream",
     "text": [
      "# of classes: 5\n",
      "Fitted classes:\n",
      "[1 2 3 4 5]\n"
     ]
    }
   ],
   "source": [
    "# create train data and target data\n",
    "from sklearn import preprocessing\n",
    "le = preprocessing.LabelEncoder()\n",
    "\n",
    "# generate data\n",
    "target = le.fit_transform(df['Target'].values)\n",
    "data = df['Prescription'].values\n",
    "classes = le.classes_\n",
    "\n",
    "# print results\n",
    "print('# of classes: {}'.format(len(classes)))\n",
    "print('Fitted classes:')\n",
    "print(classes)"
   ]
  },
  {
   "cell_type": "code",
   "execution_count": 25,
   "id": "bbc87bdb",
   "metadata": {},
   "outputs": [],
   "source": [
    "def plot_comparison_classes(y_test,y_train):\n",
    "    '''Plot comparison of occurances for each class between test and train\n",
    "    '''\n",
    "    plt.figure(figsize=(10,6));\n",
    "    width = 0.35\n",
    "    unique, counts = np.unique(y_test, return_counts=True)\n",
    "    plt.bar(unique,counts/np.sum(counts),width,label='test');\n",
    "\n",
    "    unique, counts = np.unique(y_train, return_counts=True)\n",
    "    plt.bar(unique+width,counts/np.sum(counts),width,label='train');\n",
    "\n",
    "    plt.xlabel('Class'); plt.ylabel('Occurance'); plt.legend();"
   ]
  },
  {
   "cell_type": "code",
   "execution_count": 26,
   "id": "1f147d53",
   "metadata": {},
   "outputs": [
    {
     "data": {
      "image/png": "[encoded data removed]",
      "text/plain": [
       "<Figure size 720x432 with 1 Axes>"
      ]
     },
     "metadata": {
      "needs_background": "light"
     },
     "output_type": "display_data"
    }
   ],
   "source": [
    "plot_comparison_classes(y_test,y_train)"
   ]
  },
  {
   "cell_type": "code",
   "execution_count": 27,
   "id": "97e5ea51",
   "metadata": {},
   "outputs": [
    {
     "name": "stdout",
     "output_type": "stream",
     "text": [
      "Training data size: 10104\n",
      "Testing data size: 1123\n"
     ]
    }
   ],
   "source": [
    "X_train, X_test, y_train, y_test = train_test_split(\n",
    "    data, target, test_size=0.10, stratify=target,random_state=42)\n",
    "print('Training data size: {}'.format(len(X_train)))\n",
    "print('Testing data size: {}'.format(len(X_test)))"
   ]
  },
  {
   "cell_type": "code",
   "execution_count": 28,
   "id": "3e50e563",
   "metadata": {},
   "outputs": [],
   "source": [
    "# The sci-kit learn Pipeline class can combine pre-processing and model fitting together.\n",
    "text_clf = Pipeline([\n",
    "    ('vect', CountVectorizer()),\n",
    "    ('tfidf', TfidfTransformer()),\n",
    "    ('clf', MultinomialNB()),\n",
    "])"
   ]
  },
  {
   "cell_type": "code",
   "execution_count": 29,
   "id": "8aec454e",
   "metadata": {},
   "outputs": [
    {
     "data": {
      "text/plain": [
       "Pipeline(steps=[('vect', CountVectorizer()), ('tfidf', TfidfTransformer()),\n",
       "                ('clf', MultinomialNB())])"
      ]
     },
     "execution_count": 29,
     "metadata": {},
     "output_type": "execute_result"
    }
   ],
   "source": [
    "# fit the training data\n",
    "text_clf.fit(X_train, y_train)  "
   ]
  },
  {
   "cell_type": "code",
   "execution_count": 30,
   "id": "7f0ef118",
   "metadata": {},
   "outputs": [
    {
     "name": "stdout",
     "output_type": "stream",
     "text": [
      "Validation accuracy: 58.86%\n"
     ]
    }
   ],
   "source": [
    "# predict on the validation data and calculate the accuracy\n",
    "predicted = text_clf.predict(X_test)\n",
    "val_acc = np.mean(predicted == y_test) \n",
    "print('Validation accuracy: {:.2%}'.format(val_acc))"
   ]
  },
  {
   "cell_type": "code",
   "execution_count": 31,
   "id": "97307581",
   "metadata": {},
   "outputs": [
    {
     "name": "stdout",
     "output_type": "stream",
     "text": [
      "                      precision    recall  f1-score   support\n",
      "\n",
      "           Neoplasms       0.81      0.76      0.78       267\n",
      "    Digestive system       0.00      0.00      0.00       110\n",
      "      Nervous system       1.00      0.01      0.03       147\n",
      "      Cardiovascular       0.78      0.67      0.72       248\n",
      "General pathological       0.44      0.82      0.57       351\n",
      "\n",
      "            accuracy                           0.59      1123\n",
      "           macro avg       0.61      0.45      0.42      1123\n",
      "        weighted avg       0.63      0.59      0.53      1123\n",
      "\n"
     ]
    },
    {
     "name": "stderr",
     "output_type": "stream",
     "text": [
      "C:\\Users\\ADMIN\\.conda\\envs\\nlp\\lib\\site-packages\\sklearn\\metrics\\_classification.py:1248: UndefinedMetricWarning: Precision and F-score are ill-defined and being set to 0.0 in labels with no predicted samples. Use `zero_division` parameter to control this behavior.\n",
      "  _warn_prf(average, modifier, msg_start, len(result))\n",
      "C:\\Users\\ADMIN\\.conda\\envs\\nlp\\lib\\site-packages\\sklearn\\metrics\\_classification.py:1248: UndefinedMetricWarning: Precision and F-score are ill-defined and being set to 0.0 in labels with no predicted samples. Use `zero_division` parameter to control this behavior.\n",
      "  _warn_prf(average, modifier, msg_start, len(result))\n",
      "C:\\Users\\ADMIN\\.conda\\envs\\nlp\\lib\\site-packages\\sklearn\\metrics\\_classification.py:1248: UndefinedMetricWarning: Precision and F-score are ill-defined and being set to 0.0 in labels with no predicted samples. Use `zero_division` parameter to control this behavior.\n",
      "  _warn_prf(average, modifier, msg_start, len(result))\n"
     ]
    }
   ],
   "source": [
    "from sklearn.metrics import classification_report\n",
    "labels=[\"Neoplasms\",\"Digestive system\",\"Nervous system\",\"Cardiovascular\",\"General pathological\"]\n",
    "print(classification_report(y_test, predicted, target_names=labels))"
   ]
  },
  {
   "cell_type": "code",
   "execution_count": 32,
   "id": "b2dcfdd6",
   "metadata": {},
   "outputs": [],
   "source": [
    "def print_class_prediction(sentence,clf=text_clf):\n",
    "    '''For a sentence and classifier, classify the sentence and then show the estimated probabilities\n",
    "    for each class as a bar chart.\n",
    "    '''\n",
    "    probs = clf.predict_proba([sentence]).flatten()\n",
    "\n",
    "    classes = le.classes_\n",
    "    x = np.arange(len(classes))\n",
    "\n",
    "    plt.figure(figsize=(10,6));\n",
    "    plt.grid(True,axis='y');\n",
    "    plt.bar(x,probs);\n",
    "    plt.xticks(x,classes,rotation=45,ha='right',fontsize=14);\n",
    "\n",
    "    ind = np.argmax(probs)\n",
    "    max_prob = probs[ind]\n",
    "    max_class = classes[ind]\n",
    "    plt.title('Predicted condition : {}, confidence {:.2%}'.format(max_class,max_prob),fontsize=14)"
   ]
  },
  {
   "cell_type": "code",
   "execution_count": 33,
   "id": "035886b9",
   "metadata": {},
   "outputs": [
    {
     "data": {
      "image/png": "[encoded data removed]",
      "text/plain": [
       "<Figure size 720x432 with 1 Axes>"
      ]
     },
     "metadata": {
      "needs_background": "light"
     },
     "output_type": "display_data"
    }
   ],
   "source": [
    "example_sentence = \"Real-time ultrasound for the detection of deep venous thrombosis. PURPOSE: Accurate diagnosis of deep venous thrombosis (DVT) is a clinical problem in emergency practice. A prospective trial was conducted comparing real-time ultrasound with contrast venography in the diagnosis of proximal DVT. METHODS: Seventy patients whose clinical presentations mandated diagnostic evaluation for DVT had real-time ultrasound of the involved leg followed by contrast venography. Initial readings of ultrasound and venography were compared with each other and with final readings to assess reliability of interpretation. RESULTS: Final ultrasound readings agreed with final venogram readings in all patients. Negative initial ultrasound readings agreed with final venogram readings in 56 of 56 patients (negative predictive value, 100%; 95% confidence interval, 94 to 100). Eighteen patients had positive initial ultrasound readings compared with 14 who had positive final venogram readings (positive predictive value, 78%; 95% confidence interval, 55 to 91). CONCLUSION: Negative real-time ultrasonography reliably excludes proximal DVT. Positive ultrasound reliably diagnoses proximal DVT only in experienced hands. \"\n",
    "print_class_prediction(example_sentence)"
   ]
  },
  {
   "cell_type": "code",
   "execution_count": 34,
   "id": "90dae918",
   "metadata": {},
   "outputs": [
    {
     "name": "stdout",
     "output_type": "stream",
     "text": [
      "Sentence: \n",
      "trisomy  a new recurring chromosome abnormality in acute leukemia a new recurring chromosome abnormality was identified in  of  consecutive successfully karyotyped adults with de novo acute leukemia these eight patients had trisomy  as the sole cytogenetic abnormality on central morphologic review five cases were classified as subtypes of acute myeloid leukemia one as acute mixed lymphoid and myeloid leukemia one as acute lymphoid leukemia and one as acute undifferentiated leukemia blasts of all eight cases expressed one or more myeloid differentiation antigens three also expressed tlineageassociated antigens however none of these had rearrangement of the tcell receptor beta gamma or delta genes four of six cases tested were tdt positive all eight patients with trisomy  were treated with intensive induction chemotherapy only three entered a shortlived complete remission survival of patients with trisomy  ranged from  to  months and was significantly shorter than that of the remaining patients median  v  months p   we conclude that trisomy  is a rare recurring clonal chromosome abnormality in acute leukemia associated with a poor prognosis malignant transformation of an immature hematopoietic precursor cell is suggested by the expression of antigens characteristic of both the myeloid and lymphoid lineage the high incidence of tdt positivity and the morphologic heterogeneity in these leukemias \n"
     ]
    },
    {
     "data": {
      "image/png": "[encoded data removed]",
      "text/plain": [
       "<Figure size 720x432 with 1 Axes>"
      ]
     },
     "metadata": {
      "needs_background": "light"
     },
     "output_type": "display_data"
    }
   ],
   "source": [
    "# Find a random incorrectly labelled sentence and check the prediciton using the print_class_prediction method\n",
    "incorrect_X = X_test[predicted != y_test]\n",
    "incorrect_y = y_test[predicted != y_test]\n",
    "\n",
    "ind = np.random.randint(len(incorrect_y))\n",
    "incorrrectly_labeled_sentence = incorrect_X[ind]\n",
    "true_class = le.inverse_transform([incorrect_y[ind]])\n",
    "\n",
    "print('Sentence: ')\n",
    "print(incorrrectly_labeled_sentence)\n",
    "\n",
    "print_class_prediction(incorrrectly_labeled_sentence)"
   ]
  },
  {
   "cell_type": "code",
   "execution_count": 35,
   "id": "c34499f3",
   "metadata": {},
   "outputs": [],
   "source": [
    "from nltk import word_tokenize          \n",
    "from nltk.stem import WordNetLemmatizer "
   ]
  },
  {
   "cell_type": "code",
   "execution_count": 36,
   "id": "70b441d6",
   "metadata": {},
   "outputs": [],
   "source": [
    "wnl = WordNetLemmatizer()"
   ]
  },
  {
   "cell_type": "code",
   "execution_count": 37,
   "id": "0c9161e0",
   "metadata": {},
   "outputs": [],
   "source": [
    "class LemmaTokenizer(object):\n",
    "    def __init__(self):\n",
    "        self.wnl = WordNetLemmatizer()\n",
    "    def __call__(self, doc):\n",
    "        return [wnl.lemmatize(wnl.lemmatize(t,'v'),'n') for t in word_tokenize(doc)]\n",
    "    \n",
    "text_lemma_clf = Pipeline([\n",
    "    ('vect', CountVectorizer(tokenizer=LemmaTokenizer())),\n",
    "    ('tfidf', TfidfTransformer()),\n",
    "    ('clf', MultinomialNB()),\n",
    "])"
   ]
  },
  {
   "cell_type": "code",
   "execution_count": 38,
   "id": "84287616",
   "metadata": {},
   "outputs": [
    {
     "data": {
      "text/plain": [
       "Pipeline(steps=[('vect',\n",
       "                 CountVectorizer(tokenizer=<__main__.LemmaTokenizer object at 0x0000019106296F98>)),\n",
       "                ('tfidf', TfidfTransformer()), ('clf', MultinomialNB())])"
      ]
     },
     "execution_count": 38,
     "metadata": {},
     "output_type": "execute_result"
    }
   ],
   "source": [
    "# fit the new classifier\n",
    "text_lemma_clf.fit(X_train, y_train) "
   ]
  },
  {
   "cell_type": "code",
   "execution_count": 39,
   "id": "3841ebcf",
   "metadata": {},
   "outputs": [
    {
     "name": "stdout",
     "output_type": "stream",
     "text": [
      "                      precision    recall  f1-score   support\n",
      "\n",
      "           Neoplasms       0.81      0.76      0.78       267\n",
      "    Digestive system       0.00      0.00      0.00       110\n",
      "      Nervous system       1.00      0.01      0.03       147\n",
      "      Cardiovascular       0.78      0.67      0.72       248\n",
      "General pathological       0.44      0.82      0.57       351\n",
      "\n",
      "            accuracy                           0.59      1123\n",
      "           macro avg       0.61      0.45      0.42      1123\n",
      "        weighted avg       0.63      0.59      0.53      1123\n",
      "\n"
     ]
    },
    {
     "name": "stderr",
     "output_type": "stream",
     "text": [
      "C:\\Users\\ADMIN\\.conda\\envs\\nlp\\lib\\site-packages\\sklearn\\metrics\\_classification.py:1248: UndefinedMetricWarning: Precision and F-score are ill-defined and being set to 0.0 in labels with no predicted samples. Use `zero_division` parameter to control this behavior.\n",
      "  _warn_prf(average, modifier, msg_start, len(result))\n",
      "C:\\Users\\ADMIN\\.conda\\envs\\nlp\\lib\\site-packages\\sklearn\\metrics\\_classification.py:1248: UndefinedMetricWarning: Precision and F-score are ill-defined and being set to 0.0 in labels with no predicted samples. Use `zero_division` parameter to control this behavior.\n",
      "  _warn_prf(average, modifier, msg_start, len(result))\n",
      "C:\\Users\\ADMIN\\.conda\\envs\\nlp\\lib\\site-packages\\sklearn\\metrics\\_classification.py:1248: UndefinedMetricWarning: Precision and F-score are ill-defined and being set to 0.0 in labels with no predicted samples. Use `zero_division` parameter to control this behavior.\n",
      "  _warn_prf(average, modifier, msg_start, len(result))\n"
     ]
    }
   ],
   "source": [
    "labels=[\"Neoplasms\",\"Digestive system\",\"Nervous system\",\"Cardiovascular\",\"General pathological\"]\n",
    "print(classification_report(y_test, predicted, target_names=labels))"
   ]
  },
  {
   "cell_type": "code",
   "execution_count": 40,
   "id": "0e6d9a5a",
   "metadata": {},
   "outputs": [],
   "source": [
    "def print_resampled_accuracy(predicted,y,samples=1000):\n",
    "    '''Bootstrap confidence intervals for test accuracy\n",
    "    '''\n",
    "    from sklearn.utils import resample\n",
    "    acc = []\n",
    "    for _ in range(samples):\n",
    "        r_p, r_y = resample(predicted, y)\n",
    "        acc.append(np.mean(r_p == r_y))\n",
    "\n",
    "    lc,m,uc = np.percentile(acc,[2.5,50.,97.5]);\n",
    "    print('Accuracy : {:.2%} ({:.2%} - {:.2%})'.format(m,lc,uc))"
   ]
  },
  {
   "cell_type": "code",
   "execution_count": 41,
   "id": "abb60003",
   "metadata": {},
   "outputs": [
    {
     "name": "stdout",
     "output_type": "stream",
     "text": [
      "Accuracy : 58.06% (55.12% - 60.91%)\n"
     ]
    }
   ],
   "source": [
    "# See the new accuracy on the test data\n",
    "predicted = text_lemma_clf.predict(X_test)\n",
    " \n",
    "print_resampled_accuracy(predicted,y_test)"
   ]
  },
  {
   "cell_type": "code",
   "execution_count": 42,
   "id": "4a679fab",
   "metadata": {},
   "outputs": [
    {
     "name": "stdout",
     "output_type": "stream",
     "text": [
      "Training data\n",
      "Accuracy : 64.16% (63.23% - 65.07%)\n"
     ]
    }
   ],
   "source": [
    "print('Training data')\n",
    "predicted = text_lemma_clf.predict(X_train)\n",
    "print_resampled_accuracy(predicted,y_train,samples=1000)"
   ]
  },
  {
   "cell_type": "code",
   "execution_count": 43,
   "id": "251e11b6",
   "metadata": {},
   "outputs": [
    {
     "name": "stdout",
     "output_type": "stream",
     "text": [
      "trisomy  a new recurring chromosome abnormality in acute leukemia a new recurring chromosome abnormality was identified in  of  consecutive successfully karyotyped adults with de novo acute leukemia these eight patients had trisomy  as the sole cytogenetic abnormality on central morphologic review five cases were classified as subtypes of acute myeloid leukemia one as acute mixed lymphoid and myeloid leukemia one as acute lymphoid leukemia and one as acute undifferentiated leukemia blasts of all eight cases expressed one or more myeloid differentiation antigens three also expressed tlineageassociated antigens however none of these had rearrangement of the tcell receptor beta gamma or delta genes four of six cases tested were tdt positive all eight patients with trisomy  were treated with intensive induction chemotherapy only three entered a shortlived complete remission survival of patients with trisomy  ranged from  to  months and was significantly shorter than that of the remaining patients median  v  months p   we conclude that trisomy  is a rare recurring clonal chromosome abnormality in acute leukemia associated with a poor prognosis malignant transformation of an immature hematopoietic precursor cell is suggested by the expression of antigens characteristic of both the myeloid and lymphoid lineage the high incidence of tdt positivity and the morphologic heterogeneity in these leukemias \n"
     ]
    },
    {
     "data": {
      "image/png": "[encoded data removed]",
      "text/plain": [
       "<Figure size 720x432 with 1 Axes>"
      ]
     },
     "metadata": {
      "needs_background": "light"
     },
     "output_type": "display_data"
    }
   ],
   "source": [
    "print(incorrrectly_labeled_sentence)\n",
    "print_class_prediction(sentence,clf=text_lemma_clf)"
   ]
  },
  {
   "cell_type": "code",
   "execution_count": 44,
   "id": "1a22c14b",
   "metadata": {},
   "outputs": [],
   "source": [
    "from sklearn.ensemble import RandomForestClassifier\n",
    "text_rf_clf = Pipeline([\n",
    "    ('vect', CountVectorizer(tokenizer=LemmaTokenizer())),\n",
    "    ('tfidf', TfidfTransformer()),\n",
    "    ('clf', RandomForestClassifier(n_estimators=1000)),\n",
    "])"
   ]
  },
  {
   "cell_type": "code",
   "execution_count": 45,
   "id": "17696427",
   "metadata": {},
   "outputs": [
    {
     "data": {
      "text/plain": [
       "Pipeline(steps=[('vect',\n",
       "                 CountVectorizer(tokenizer=<__main__.LemmaTokenizer object at 0x000001910616C8D0>)),\n",
       "                ('tfidf', TfidfTransformer()),\n",
       "                ('clf', RandomForestClassifier(n_estimators=1000))])"
      ]
     },
     "execution_count": 45,
     "metadata": {},
     "output_type": "execute_result"
    }
   ],
   "source": [
    "text_rf_clf.fit(X_train, y_train) "
   ]
  },
  {
   "cell_type": "code",
   "execution_count": 46,
   "id": "cba0bc75",
   "metadata": {},
   "outputs": [
    {
     "name": "stdout",
     "output_type": "stream",
     "text": [
      "Training data\n",
      "Accuracy : 100.00% (100.00% - 100.00%)\n"
     ]
    }
   ],
   "source": [
    "print('Training data')\n",
    "predicted = text_rf_clf.predict(X_train)\n",
    "print_resampled_accuracy(predicted,y_train,samples=1000)"
   ]
  },
  {
   "cell_type": "code",
   "execution_count": 47,
   "id": "c041d782",
   "metadata": {},
   "outputs": [
    {
     "name": "stdout",
     "output_type": "stream",
     "text": [
      "Test data\n",
      "Accuracy : 68.03% (65.27% - 70.88%)\n"
     ]
    }
   ],
   "source": [
    "print('Test data')\n",
    "predicted = text_rf_clf.predict(X_test)\n",
    "print_resampled_accuracy(predicted,y_test,samples=1000)"
   ]
  },
  {
   "cell_type": "code",
   "execution_count": 48,
   "id": "3ace657f",
   "metadata": {},
   "outputs": [
    {
     "name": "stdout",
     "output_type": "stream",
     "text": [
      "                      precision    recall  f1-score   support\n",
      "\n",
      "           Neoplasms       0.78      0.86      0.82       267\n",
      "    Digestive system       0.81      0.35      0.48       110\n",
      "      Nervous system       0.76      0.33      0.46       147\n",
      "      Cardiovascular       0.74      0.85      0.80       248\n",
      "General pathological       0.54      0.68      0.60       351\n",
      "\n",
      "            accuracy                           0.68      1123\n",
      "           macro avg       0.73      0.61      0.63      1123\n",
      "        weighted avg       0.70      0.68      0.67      1123\n",
      "\n"
     ]
    }
   ],
   "source": [
    "labels=[\"Neoplasms\",\"Digestive system\",\"Nervous system\",\"Cardiovascular\",\"General pathological\"]\n",
    "print(classification_report(y_test, predicted, target_names=labels))"
   ]
  },
  {
   "cell_type": "code",
   "execution_count": 49,
   "id": "c2f0b182",
   "metadata": {},
   "outputs": [],
   "source": [
    "row = df.sample()\n",
    "example_sentence = row['Prescription'].values[0]\n",
    "condition = row['Target'].values[0]"
   ]
  },
  {
   "cell_type": "code",
   "execution_count": 50,
   "id": "56d7116a",
   "metadata": {},
   "outputs": [
    {
     "name": "stdout",
     "output_type": "stream",
     "text": [
      "cemented total knee arthroplasty for gonarthrosis in patients  years old or younger the results of  cemented total knee arthroplasties tkas in  patients with gonarthrosis who were  years old or younger at the time of surgery were reviewed these patients were operated on between  and  and were followed for an average of  years the average age of the patients was  years patients were evaluated by the hospital for special surgery knee score the average preoperative score was  and the average followup score was  overall  tkas were rated as excellent and  as good using the knee rating score advocated by the knee society the average postoperative score was  for pain and  for function there were four successful reoperations for patellar component loosening all in metalbacked patellae the femoral and tibial components in these patients were intact and at the followup period two knees were rated as excellent and two as good detailed roentgenographic evaluation demonstrated that  of tibial components had radiolucencies in at least one zone on the anteroposterior roentgenogram and in  on the lateral roentgenogram femoral radiolucencies occurred in only  of knees patellar radiolucencies in one or more zones occurred in  of knees that had not had patellar revision no complete or progressive radiolucencies at the bonecement interface were noted for any component and no components were considered to be roentgenographically loose cemented tkas can achieve excellent longterm results in patients younger than  years old with gonarthrosis of the knee these results compare with those obtained in published reports on older age groups \n"
     ]
    },
    {
     "data": {
      "image/png": "[encoded data removed]",
      "text/plain": [
       "<Figure size 720x432 with 1 Axes>"
      ]
     },
     "metadata": {
      "needs_background": "light"
     },
     "output_type": "display_data"
    }
   ],
   "source": [
    "print(example_sentence)\n",
    "print_class_prediction(example_sentence,clf=text_rf_clf)"
   ]
  },
  {
   "cell_type": "code",
   "execution_count": 51,
   "id": "3ef1a63e",
   "metadata": {},
   "outputs": [
    {
     "name": "stdout",
     "output_type": "stream",
     "text": [
      "Sentence: \n",
      "lack of association between keratoconus mitral valve prolapse and joint hypermobility the authors enrolled  patients with keratoconus and  matched controls in a crosssectional study to determine if mitral valve prolapse and hypermobile joints occur with greater frequency in individuals with keratoconus than in individuals without keratoconus the hypothesis that keratoconus may not be a distinct eye disease but a nonspecific sign representing a more generalized systemic disorder possibly a mild collagen tissue abnormality was considered mmode and two dimensional echocardiography and cardiac auscultation detected no statistically significant difference in the prevalence of mitral valve prolapse in patients with keratoconus compared with controls formal systematic examination of five joints also failed to detect a statistically significant difference in the prevalence of hypermobile joints in keratoconus patients and controls however as an ancillary finding a significantly higher proportion of patients with keratoconus was found to have a history of hay fever than was the case with controls \n"
     ]
    },
    {
     "data": {
      "image/png": "[encoded data removed]",
      "text/plain": [
       "<Figure size 720x432 with 1 Axes>"
      ]
     },
     "metadata": {
      "needs_background": "light"
     },
     "output_type": "display_data"
    }
   ],
   "source": [
    "# get random incorrectly labelled sentence\n",
    "incorrect_X = X_test[predicted != y_test]\n",
    "incorrect_y = y_test[predicted != y_test]\n",
    "\n",
    "ind = np.random.randint(0,len(incorrect_y))\n",
    "\n",
    "incorrrectly_labeled_sentence = incorrect_X[ind]\n",
    "true_class = le.inverse_transform([incorrect_y[ind]])\n",
    "\n",
    "print('Sentence: ')\n",
    "print(incorrrectly_labeled_sentence)\n",
    "\n",
    "print_class_prediction(incorrrectly_labeled_sentence,clf=text_rf_clf)"
   ]
  },
  {
   "cell_type": "code",
   "execution_count": 52,
   "id": "8bd06e24",
   "metadata": {},
   "outputs": [],
   "source": [
    "from sklearn.svm import SVC\n",
    "text_rf_clf = Pipeline([\n",
    "    ('vect', CountVectorizer(tokenizer=LemmaTokenizer())),\n",
    "    ('tfidf', TfidfTransformer()),\n",
    "    ('clf', SVC(decision_function_shape='ovo',kernel='sigmoid', gamma=1.0)),\n",
    "])"
   ]
  },
  {
   "cell_type": "code",
   "execution_count": 53,
   "id": "1ec2e652",
   "metadata": {},
   "outputs": [
    {
     "data": {
      "text/plain": [
       "Pipeline(steps=[('vect',\n",
       "                 CountVectorizer(tokenizer=<__main__.LemmaTokenizer object at 0x000001910BFAF630>)),\n",
       "                ('tfidf', TfidfTransformer()),\n",
       "                ('clf',\n",
       "                 SVC(decision_function_shape='ovo', gamma=1.0,\n",
       "                     kernel='sigmoid'))])"
      ]
     },
     "execution_count": 53,
     "metadata": {},
     "output_type": "execute_result"
    }
   ],
   "source": [
    "text_rf_clf.fit(X_train, y_train) "
   ]
  },
  {
   "cell_type": "code",
   "execution_count": 54,
   "id": "ea2f35c8",
   "metadata": {},
   "outputs": [
    {
     "name": "stdout",
     "output_type": "stream",
     "text": [
      "Training data\n",
      "Accuracy : 82.95% (82.25% - 83.66%)\n"
     ]
    }
   ],
   "source": [
    "print('Training data')\n",
    "predicted = text_rf_clf.predict(X_train)\n",
    "print_resampled_accuracy(predicted,y_train,samples=1000)"
   ]
  },
  {
   "cell_type": "code",
   "execution_count": 55,
   "id": "12f8e865",
   "metadata": {},
   "outputs": [
    {
     "name": "stdout",
     "output_type": "stream",
     "text": [
      "Test data\n",
      "Accuracy : 69.46% (66.70% - 72.04%)\n"
     ]
    }
   ],
   "source": [
    "print('Test data')\n",
    "predicted = text_rf_clf.predict(X_test)\n",
    "print_resampled_accuracy(predicted,y_test,samples=1000)"
   ]
  },
  {
   "cell_type": "code",
   "execution_count": 56,
   "id": "365ab9bb",
   "metadata": {},
   "outputs": [],
   "source": [
    "row = df.sample()\n",
    "example_sentence = row['Prescription'].values[0]\n",
    "condition = row['Target'].values[0]"
   ]
  },
  {
   "cell_type": "code",
   "execution_count": 57,
   "id": "2d1b5b67",
   "metadata": {},
   "outputs": [
    {
     "name": "stdout",
     "output_type": "stream",
     "text": [
      "dietary salt and blood pressure a perspective although dietary salt restriction is often valuable as sole or adjunctive therapy of hypertensive disorders it is abundantly clear that hypertensive patients comprise a heterogeneous group with regard to salt sensitivity of blood pressure this is apparent despite the many methodological obstacles to defining salt sensitivity in an individual patient currently dietary trial is the only sure means of defining a given patient as responsive to salt restriction easily definable markers of salt sensitivity would allow appropriate targeting of this rather ponderous therapy promising leads include the assessment of membrane ion transporters such as sodiumlithium exchange and of the activity of the reninangiotensin system including the phenomenon of nonmodulating hypertension and other volume regulatory hormones such as atrial natriuretic factor although less intensively studied than in hypertensive patients the blood pressure response of normal subjects to salt restriction is also marked by great variability given the possibility of deleterious consequences of populationwide salt restriction for at least some people in a setting such as the united states it seems imprudent to recommend such a policy before its proven worth has been demonstrated by clinical trial pending such evidence and the development of markers salt restriction should be reserved for those in whom it is of demonstrated efficacy \n"
     ]
    },
    {
     "ename": "AttributeError",
     "evalue": "predict_proba is not available when  probability=False",
     "output_type": "error",
     "traceback": [
      "\u001b[1;31m---------------------------------------------------------------------------\u001b[0m",
      "\u001b[1;31mAttributeError\u001b[0m                            Traceback (most recent call last)",
      "\u001b[1;32m<ipython-input-57-176982f828b1>\u001b[0m in \u001b[0;36m<module>\u001b[1;34m\u001b[0m\n\u001b[0;32m      1\u001b[0m \u001b[0mprint\u001b[0m\u001b[1;33m(\u001b[0m\u001b[0mexample_sentence\u001b[0m\u001b[1;33m)\u001b[0m\u001b[1;33m\u001b[0m\u001b[1;33m\u001b[0m\u001b[0m\n\u001b[1;32m----> 2\u001b[1;33m \u001b[0mprint_class_prediction\u001b[0m\u001b[1;33m(\u001b[0m\u001b[0mexample_sentence\u001b[0m\u001b[1;33m,\u001b[0m\u001b[0mclf\u001b[0m\u001b[1;33m=\u001b[0m\u001b[0mtext_rf_clf\u001b[0m\u001b[1;33m)\u001b[0m\u001b[1;33m\u001b[0m\u001b[1;33m\u001b[0m\u001b[0m\n\u001b[0m",
      "\u001b[1;32m<ipython-input-32-fc0bc6776897>\u001b[0m in \u001b[0;36mprint_class_prediction\u001b[1;34m(sentence, clf)\u001b[0m\n\u001b[0;32m      3\u001b[0m     \u001b[1;32mfor\u001b[0m \u001b[0meach\u001b[0m \u001b[1;32mclass\u001b[0m \u001b[1;32mas\u001b[0m \u001b[0ma\u001b[0m \u001b[0mbar\u001b[0m \u001b[0mchart\u001b[0m\u001b[1;33m.\u001b[0m\u001b[1;33m\u001b[0m\u001b[1;33m\u001b[0m\u001b[0m\n\u001b[0;32m      4\u001b[0m     '''\n\u001b[1;32m----> 5\u001b[1;33m     \u001b[0mprobs\u001b[0m \u001b[1;33m=\u001b[0m \u001b[0mclf\u001b[0m\u001b[1;33m.\u001b[0m\u001b[0mpredict_proba\u001b[0m\u001b[1;33m(\u001b[0m\u001b[1;33m[\u001b[0m\u001b[0msentence\u001b[0m\u001b[1;33m]\u001b[0m\u001b[1;33m)\u001b[0m\u001b[1;33m.\u001b[0m\u001b[0mflatten\u001b[0m\u001b[1;33m(\u001b[0m\u001b[1;33m)\u001b[0m\u001b[1;33m\u001b[0m\u001b[1;33m\u001b[0m\u001b[0m\n\u001b[0m\u001b[0;32m      6\u001b[0m \u001b[1;33m\u001b[0m\u001b[0m\n\u001b[0;32m      7\u001b[0m     \u001b[0mclasses\u001b[0m \u001b[1;33m=\u001b[0m \u001b[0mle\u001b[0m\u001b[1;33m.\u001b[0m\u001b[0mclasses_\u001b[0m\u001b[1;33m\u001b[0m\u001b[1;33m\u001b[0m\u001b[0m\n",
      "\u001b[1;32m~\\.conda\\envs\\nlp\\lib\\site-packages\\sklearn\\utils\\metaestimators.py\u001b[0m in \u001b[0;36m__get__\u001b[1;34m(self, obj, type)\u001b[0m\n\u001b[0;32m    112\u001b[0m                     \u001b[1;32mcontinue\u001b[0m\u001b[1;33m\u001b[0m\u001b[1;33m\u001b[0m\u001b[0m\n\u001b[0;32m    113\u001b[0m                 \u001b[1;32melse\u001b[0m\u001b[1;33m:\u001b[0m\u001b[1;33m\u001b[0m\u001b[1;33m\u001b[0m\u001b[0m\n\u001b[1;32m--> 114\u001b[1;33m                     \u001b[0mgetattr\u001b[0m\u001b[1;33m(\u001b[0m\u001b[0mdelegate\u001b[0m\u001b[1;33m,\u001b[0m \u001b[0mself\u001b[0m\u001b[1;33m.\u001b[0m\u001b[0mattribute_name\u001b[0m\u001b[1;33m)\u001b[0m\u001b[1;33m\u001b[0m\u001b[1;33m\u001b[0m\u001b[0m\n\u001b[0m\u001b[0;32m    115\u001b[0m                     \u001b[1;32mbreak\u001b[0m\u001b[1;33m\u001b[0m\u001b[1;33m\u001b[0m\u001b[0m\n\u001b[0;32m    116\u001b[0m             \u001b[1;32melse\u001b[0m\u001b[1;33m:\u001b[0m\u001b[1;33m\u001b[0m\u001b[1;33m\u001b[0m\u001b[0m\n",
      "\u001b[1;32m~\\.conda\\envs\\nlp\\lib\\site-packages\\sklearn\\svm\\_base.py\u001b[0m in \u001b[0;36mpredict_proba\u001b[1;34m(self)\u001b[0m\n\u001b[0;32m    664\u001b[0m         \u001b[0mdatasets\u001b[0m\u001b[1;33m.\u001b[0m\u001b[1;33m\u001b[0m\u001b[1;33m\u001b[0m\u001b[0m\n\u001b[0;32m    665\u001b[0m         \"\"\"\n\u001b[1;32m--> 666\u001b[1;33m         \u001b[0mself\u001b[0m\u001b[1;33m.\u001b[0m\u001b[0m_check_proba\u001b[0m\u001b[1;33m(\u001b[0m\u001b[1;33m)\u001b[0m\u001b[1;33m\u001b[0m\u001b[1;33m\u001b[0m\u001b[0m\n\u001b[0m\u001b[0;32m    667\u001b[0m         \u001b[1;32mreturn\u001b[0m \u001b[0mself\u001b[0m\u001b[1;33m.\u001b[0m\u001b[0m_predict_proba\u001b[0m\u001b[1;33m\u001b[0m\u001b[1;33m\u001b[0m\u001b[0m\n\u001b[0;32m    668\u001b[0m \u001b[1;33m\u001b[0m\u001b[0m\n",
      "\u001b[1;32m~\\.conda\\envs\\nlp\\lib\\site-packages\\sklearn\\svm\\_base.py\u001b[0m in \u001b[0;36m_check_proba\u001b[1;34m(self)\u001b[0m\n\u001b[0;32m    631\u001b[0m     \u001b[1;32mdef\u001b[0m \u001b[0m_check_proba\u001b[0m\u001b[1;33m(\u001b[0m\u001b[0mself\u001b[0m\u001b[1;33m)\u001b[0m\u001b[1;33m:\u001b[0m\u001b[1;33m\u001b[0m\u001b[1;33m\u001b[0m\u001b[0m\n\u001b[0;32m    632\u001b[0m         \u001b[1;32mif\u001b[0m \u001b[1;32mnot\u001b[0m \u001b[0mself\u001b[0m\u001b[1;33m.\u001b[0m\u001b[0mprobability\u001b[0m\u001b[1;33m:\u001b[0m\u001b[1;33m\u001b[0m\u001b[1;33m\u001b[0m\u001b[0m\n\u001b[1;32m--> 633\u001b[1;33m             raise AttributeError(\"predict_proba is not available when \"\n\u001b[0m\u001b[0;32m    634\u001b[0m                                  \" probability=False\")\n\u001b[0;32m    635\u001b[0m         \u001b[1;32mif\u001b[0m \u001b[0mself\u001b[0m\u001b[1;33m.\u001b[0m\u001b[0m_impl\u001b[0m \u001b[1;32mnot\u001b[0m \u001b[1;32min\u001b[0m \u001b[1;33m(\u001b[0m\u001b[1;34m'c_svc'\u001b[0m\u001b[1;33m,\u001b[0m \u001b[1;34m'nu_svc'\u001b[0m\u001b[1;33m)\u001b[0m\u001b[1;33m:\u001b[0m\u001b[1;33m\u001b[0m\u001b[1;33m\u001b[0m\u001b[0m\n",
      "\u001b[1;31mAttributeError\u001b[0m: predict_proba is not available when  probability=False"
     ]
    }
   ],
   "source": [
    "print(example_sentence)\n",
    "print_class_prediction(example_sentence,clf=text_rf_clf)"
   ]
  },
  {
   "cell_type": "code",
   "execution_count": 58,
   "id": "cfc560b7",
   "metadata": {},
   "outputs": [
    {
     "name": "stdout",
     "output_type": "stream",
     "text": [
      "                      precision    recall  f1-score   support\n",
      "\n",
      "           Neoplasms       0.77      0.82      0.79       267\n",
      "    Digestive system       0.68      0.55      0.61       110\n",
      "      Nervous system       0.66      0.60      0.63       147\n",
      "      Cardiovascular       0.76      0.80      0.78       248\n",
      "General pathological       0.60      0.61      0.61       351\n",
      "\n",
      "            accuracy                           0.69      1123\n",
      "           macro avg       0.69      0.68      0.68      1123\n",
      "        weighted avg       0.69      0.69      0.69      1123\n",
      "\n"
     ]
    }
   ],
   "source": [
    "labels=[\"Neoplasms\",\"Digestive system\",\"Nervous system\",\"Cardiovascular\",\"General pathological\"]\n",
    "print(classification_report(y_test, predicted, target_names=labels))"
   ]
  },
  {
   "cell_type": "code",
   "execution_count": 59,
   "id": "66db2bee",
   "metadata": {},
   "outputs": [],
   "source": [
    "from sklearn.neighbors import KNeighborsClassifier\n",
    "text_rf_clf = Pipeline([\n",
    "    ('vect', CountVectorizer(tokenizer=LemmaTokenizer())),\n",
    "    ('tfidf', TfidfTransformer()),\n",
    "    ('clf',  KNeighborsClassifier(n_neighbors=49)),\n",
    "])"
   ]
  },
  {
   "cell_type": "code",
   "execution_count": 60,
   "id": "47ab866c",
   "metadata": {},
   "outputs": [
    {
     "data": {
      "text/plain": [
       "Pipeline(steps=[('vect',\n",
       "                 CountVectorizer(tokenizer=<__main__.LemmaTokenizer object at 0x000001910057DF28>)),\n",
       "                ('tfidf', TfidfTransformer()),\n",
       "                ('clf', KNeighborsClassifier(n_neighbors=49))])"
      ]
     },
     "execution_count": 60,
     "metadata": {},
     "output_type": "execute_result"
    }
   ],
   "source": [
    "text_rf_clf.fit(X_train, y_train) "
   ]
  },
  {
   "cell_type": "code",
   "execution_count": 61,
   "id": "ad58d43b",
   "metadata": {},
   "outputs": [
    {
     "name": "stdout",
     "output_type": "stream",
     "text": [
      "Training data\n",
      "Accuracy : 68.40% (67.46% - 69.36%)\n"
     ]
    }
   ],
   "source": [
    "print('Training data')\n",
    "predicted = text_rf_clf.predict(X_train)\n",
    "print_resampled_accuracy(predicted,y_train,samples=1000)"
   ]
  },
  {
   "cell_type": "code",
   "execution_count": 62,
   "id": "64a3b36a",
   "metadata": {},
   "outputs": [
    {
     "name": "stdout",
     "output_type": "stream",
     "text": [
      "Test data\n",
      "Accuracy : 65.72% (63.05% - 68.48%)\n"
     ]
    }
   ],
   "source": [
    "print('Test data')\n",
    "predicted = text_rf_clf.predict(X_test)\n",
    "print_resampled_accuracy(predicted,y_test,samples=1000)"
   ]
  },
  {
   "cell_type": "code",
   "execution_count": 63,
   "id": "a88b1181",
   "metadata": {},
   "outputs": [],
   "source": [
    "row = df.sample()\n",
    "example_sentence = row['Prescription'].values[0]\n",
    "condition = row['Target'].values[0]"
   ]
  },
  {
   "cell_type": "code",
   "execution_count": 64,
   "id": "70fd955a",
   "metadata": {},
   "outputs": [
    {
     "name": "stdout",
     "output_type": "stream",
     "text": [
      "multisurface method of pattern separation for medical diagnosis applied to breast cytology multisurface pattern separation is a mathematical method for distinguishing between elements of two pattern sets each element of the pattern sets is comprised of various scalar observations in this paper we use the diagnosis of breast cytology to demonstrate the applicability of this method to medical diagnosis and decision making each of  cytological characteristics of breast fineneedle aspirates reported to differ between benign and malignant samples was graded  to  at the time of sample collection nine characteristics were found to differ significantly between benign and malignant samples mathematically these values for each sample were represented by a point in a ninedimensional space of real variables benign points were separated from malignant ones by planes determined by linear programming correct separation was accomplished in  of  samples  benign and  malignant in the one misclassified malignant case the fineneedle aspirate cytology was so definitely benign and the cytology of the excised cancer so definitely malignant that we believe the tumor was missed on aspiration our mathematical method is applicable to other medical diagnostic and decisionmaking problems \n"
     ]
    },
    {
     "data": {
      "image/png": "[encoded data removed]",
      "text/plain": [
       "<Figure size 720x432 with 1 Axes>"
      ]
     },
     "metadata": {
      "needs_background": "light"
     },
     "output_type": "display_data"
    }
   ],
   "source": [
    "print(example_sentence)\n",
    "print_class_prediction(example_sentence,clf=text_rf_clf)"
   ]
  },
  {
   "cell_type": "code",
   "execution_count": null,
   "id": "147b06be",
   "metadata": {},
   "outputs": [],
   "source": []
  }
 ],
 "metadata": {
  "kernelspec": {
   "display_name": "Python 3",
   "language": "python",
   "name": "python3"
  },
  "language_info": {
   "codemirror_mode": {
    "name": "ipython",
    "version": 3
   },
   "file_extension": ".py",
   "mimetype": "text/x-python",
   "name": "python",
   "nbconvert_exporter": "python",
   "pygments_lexer": "ipython3",
   "version": "3.6.13"
  }
 },
 "nbformat": 4,
 "nbformat_minor": 5
}
